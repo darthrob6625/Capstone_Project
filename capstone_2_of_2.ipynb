{
 "cells": [
  {
   "cell_type": "code",
   "execution_count": 1,
   "id": "f5e65f39-b4ed-47dc-975b-e759a480cb27",
   "metadata": {},
   "outputs": [],
   "source": [
    "# * * * * * * * * * * * * * * * * * * * * * *\n",
    "# Author      : Robert Meza\n",
    "# Cohort      : UC Berkeley ML/AI — March 2025\n",
    "# Description : Capstone Project for CalPERS\n",
    "# File        : capstone_2_of_2.ipynb\n",
    "# * * * * * * * * * * * * * * * * * * * * * *"
   ]
  },
  {
   "cell_type": "code",
   "execution_count": 3,
   "id": "8a088c95-9f4b-48af-83e8-0ca88de66f88",
   "metadata": {},
   "outputs": [],
   "source": [
    "# <- ! ! ! ! ! ! ! ! ! ! ! ! ! ! ! ! ! ! ! !\n",
    "# This is part two (capstone_2_of_2.ipynb), \n",
    "# the previous steps were completed in \n",
    "# part 1 (capstone_1_of_2.ipynb)\n",
    "# <- ! ! ! ! ! ! ! ! ! ! ! ! ! ! ! ! ! ! ! !"
   ]
  },
  {
   "cell_type": "code",
   "execution_count": 4,
   "id": "e3489fe3-f7d9-4483-b479-e49b13431f63",
   "metadata": {},
   "outputs": [],
   "source": [
    "# start"
   ]
  },
  {
   "cell_type": "code",
   "execution_count": 7,
   "id": "a0465fb2-dd14-4941-844b-90085d459f45",
   "metadata": {},
   "outputs": [],
   "source": [
    "import pandas as pd\n",
    "import matplotlib.pyplot as plt\n",
    "import numpy as np\n",
    "import seaborn as sns\n",
    "import time\n",
    "import warnings\n",
    "\n",
    "from scipy import stats\n",
    "from sklearn.preprocessing import LabelEncoder\n",
    "from sklearn.model_selection import train_test_split\n",
    "from sklearn.preprocessing import StandardScaler\n",
    "from sklearn.linear_model import LogisticRegression\n",
    "from sklearn.tree import DecisionTreeClassifier\n",
    "from sklearn.neighbors import KNeighborsClassifier\n",
    "from sklearn import tree\n",
    "from sklearn.metrics import classification_report, f1_score, accuracy_score\n",
    "from sklearn.pipeline import Pipeline\n",
    "\n",
    "warnings.filterwarnings(\"ignore\")"
   ]
  },
  {
   "cell_type": "code",
   "execution_count": 8,
   "id": "c6e084cb-6577-499e-a573-8081821022c0",
   "metadata": {},
   "outputs": [],
   "source": [
    "# read the final dataset\n",
    "df = pd.read_csv(\"data/final_data.csv\")"
   ]
  },
  {
   "cell_type": "code",
   "execution_count": 11,
   "id": "0798f8af-e8de-49d7-94b8-e39e8e7cc839",
   "metadata": {},
   "outputs": [],
   "source": [
    "# sample down for performance\n",
    "df = df.iloc[:400000]"
   ]
  },
  {
   "cell_type": "code",
   "execution_count": 13,
   "id": "f738d51a-d16b-4d8e-ab49-cd8a3f34fb54",
   "metadata": {},
   "outputs": [
    {
     "name": "stdout",
     "output_type": "stream",
     "text": [
      "<class 'pandas.core.frame.DataFrame'>\n",
      "RangeIndex: 400000 entries, 0 to 399999\n",
      "Data columns (total 10 columns):\n",
      " #   Column                     Non-Null Count   Dtype \n",
      "---  ------                     --------------   ----- \n",
      " 0   YEAR                       400000 non-null  int64 \n",
      " 1   AGE                        400000 non-null  int64 \n",
      " 2   CARRIER                    400000 non-null  object\n",
      " 3   PREMIUM_MTHLY_AMT          400000 non-null  int64 \n",
      " 4   DEP_COUNT                  400000 non-null  int64 \n",
      " 5   HIRE_YEAR                  400000 non-null  int64 \n",
      " 6   LOV_HLTH_PLAN_TYPE_CD_ASC  400000 non-null  int64 \n",
      " 7   LOV_HLTH_PLAN_TYPE_CD_EPO  400000 non-null  int64 \n",
      " 8   LOV_HLTH_PLAN_TYPE_CD_HMO  400000 non-null  int64 \n",
      " 9   LOV_HLTH_PLAN_TYPE_CD_PPO  400000 non-null  int64 \n",
      "dtypes: int64(9), object(1)\n",
      "memory usage: 30.5+ MB\n"
     ]
    }
   ],
   "source": [
    "df.info()"
   ]
  },
  {
   "cell_type": "code",
   "execution_count": 15,
   "id": "9f4edb36-442a-49e8-ad24-7c81b7b96e9d",
   "metadata": {},
   "outputs": [
    {
     "data": {
      "text/html": [
       "<div>\n",
       "<style scoped>\n",
       "    .dataframe tbody tr th:only-of-type {\n",
       "        vertical-align: middle;\n",
       "    }\n",
       "\n",
       "    .dataframe tbody tr th {\n",
       "        vertical-align: top;\n",
       "    }\n",
       "\n",
       "    .dataframe thead th {\n",
       "        text-align: right;\n",
       "    }\n",
       "</style>\n",
       "<table border=\"1\" class=\"dataframe\">\n",
       "  <thead>\n",
       "    <tr style=\"text-align: right;\">\n",
       "      <th></th>\n",
       "      <th>YEAR</th>\n",
       "      <th>AGE</th>\n",
       "      <th>CARRIER</th>\n",
       "      <th>PREMIUM_MTHLY_AMT</th>\n",
       "      <th>DEP_COUNT</th>\n",
       "      <th>HIRE_YEAR</th>\n",
       "      <th>LOV_HLTH_PLAN_TYPE_CD_ASC</th>\n",
       "      <th>LOV_HLTH_PLAN_TYPE_CD_EPO</th>\n",
       "      <th>LOV_HLTH_PLAN_TYPE_CD_HMO</th>\n",
       "      <th>LOV_HLTH_PLAN_TYPE_CD_PPO</th>\n",
       "    </tr>\n",
       "  </thead>\n",
       "  <tbody>\n",
       "    <tr>\n",
       "      <th>0</th>\n",
       "      <td>2021</td>\n",
       "      <td>30</td>\n",
       "      <td>Anthem Blue Cross</td>\n",
       "      <td>2208</td>\n",
       "      <td>4</td>\n",
       "      <td>2018</td>\n",
       "      <td>0</td>\n",
       "      <td>0</td>\n",
       "      <td>0</td>\n",
       "      <td>1</td>\n",
       "    </tr>\n",
       "    <tr>\n",
       "      <th>1</th>\n",
       "      <td>2022</td>\n",
       "      <td>46</td>\n",
       "      <td>Blue Shield of California</td>\n",
       "      <td>1958</td>\n",
       "      <td>5</td>\n",
       "      <td>1999</td>\n",
       "      <td>1</td>\n",
       "      <td>0</td>\n",
       "      <td>0</td>\n",
       "      <td>0</td>\n",
       "    </tr>\n",
       "    <tr>\n",
       "      <th>2</th>\n",
       "      <td>2021</td>\n",
       "      <td>37</td>\n",
       "      <td>Anthem Blue Cross</td>\n",
       "      <td>1371</td>\n",
       "      <td>2</td>\n",
       "      <td>2011</td>\n",
       "      <td>0</td>\n",
       "      <td>0</td>\n",
       "      <td>0</td>\n",
       "      <td>1</td>\n",
       "    </tr>\n",
       "    <tr>\n",
       "      <th>3</th>\n",
       "      <td>2020</td>\n",
       "      <td>29</td>\n",
       "      <td>UnitedHealthcare Services Inc.</td>\n",
       "      <td>1454</td>\n",
       "      <td>1</td>\n",
       "      <td>2015</td>\n",
       "      <td>0</td>\n",
       "      <td>0</td>\n",
       "      <td>1</td>\n",
       "      <td>0</td>\n",
       "    </tr>\n",
       "    <tr>\n",
       "      <th>4</th>\n",
       "      <td>2024</td>\n",
       "      <td>40</td>\n",
       "      <td>UnitedHealthcare Services Inc.</td>\n",
       "      <td>2296</td>\n",
       "      <td>3</td>\n",
       "      <td>2018</td>\n",
       "      <td>0</td>\n",
       "      <td>0</td>\n",
       "      <td>1</td>\n",
       "      <td>0</td>\n",
       "    </tr>\n",
       "  </tbody>\n",
       "</table>\n",
       "</div>"
      ],
      "text/plain": [
       "   YEAR  AGE                         CARRIER  PREMIUM_MTHLY_AMT  DEP_COUNT  \\\n",
       "0  2021   30               Anthem Blue Cross               2208          4   \n",
       "1  2022   46       Blue Shield of California               1958          5   \n",
       "2  2021   37               Anthem Blue Cross               1371          2   \n",
       "3  2020   29  UnitedHealthcare Services Inc.               1454          1   \n",
       "4  2024   40  UnitedHealthcare Services Inc.               2296          3   \n",
       "\n",
       "   HIRE_YEAR  LOV_HLTH_PLAN_TYPE_CD_ASC  LOV_HLTH_PLAN_TYPE_CD_EPO  \\\n",
       "0       2018                          0                          0   \n",
       "1       1999                          1                          0   \n",
       "2       2011                          0                          0   \n",
       "3       2015                          0                          0   \n",
       "4       2018                          0                          0   \n",
       "\n",
       "   LOV_HLTH_PLAN_TYPE_CD_HMO  LOV_HLTH_PLAN_TYPE_CD_PPO  \n",
       "0                          0                          1  \n",
       "1                          0                          0  \n",
       "2                          0                          1  \n",
       "3                          1                          0  \n",
       "4                          1                          0  "
      ]
     },
     "execution_count": 15,
     "metadata": {},
     "output_type": "execute_result"
    }
   ],
   "source": [
    "df.head()"
   ]
  },
  {
   "cell_type": "code",
   "execution_count": 17,
   "id": "0c846aee-ad5f-4fdd-949c-a4173d110951",
   "metadata": {},
   "outputs": [],
   "source": [
    "# * * * * * * * * * * * * * * * * * * * * * *\n",
    "# 5. Classification Modeling\n",
    "# * * * * * * * * * * * * * * * * * * * * * *"
   ]
  },
  {
   "cell_type": "code",
   "execution_count": 19,
   "id": "47c3efdf-45f9-470c-b715-9c6e030baa6c",
   "metadata": {},
   "outputs": [],
   "source": [
    "target = \"CARRIER\"\n",
    "X = df.drop(columns=[target])\n",
    "\n",
    "le = LabelEncoder()\n",
    "y = le.fit_transform(df[target])"
   ]
  },
  {
   "cell_type": "code",
   "execution_count": 21,
   "id": "6da9e9f4-e58e-4ec1-9391-05aa41f07c07",
   "metadata": {},
   "outputs": [],
   "source": [
    "# test train split\n",
    "X_train, X_test, y_train, y_test = train_test_split(X, y, test_size=0.2, random_state=6625, stratify=y)"
   ]
  },
  {
   "cell_type": "code",
   "execution_count": 23,
   "id": "3445842c-feff-40bc-b56e-3f80c58ed49a",
   "metadata": {},
   "outputs": [],
   "source": [
    "# scale the data after test train split\n",
    "scaler = StandardScaler()\n",
    "X_train_scaled = scaler.fit_transform(X_train)\n",
    "X_test_scaled = scaler.transform(X_test)"
   ]
  },
  {
   "cell_type": "code",
   "execution_count": 25,
   "id": "412d336a-a23c-40e8-b18f-4177f6b93e13",
   "metadata": {},
   "outputs": [],
   "source": [
    "# build logistic regression, and decision tree\n",
    "models = {\n",
    "    \"Logistic Regression\": LogisticRegression(),\n",
    "    \"Decision Tree\": DecisionTreeClassifier()\n",
    "}"
   ]
  },
  {
   "cell_type": "code",
   "execution_count": 27,
   "id": "9db37e28-d19d-4bf0-b803-f5dd4c332534",
   "metadata": {},
   "outputs": [],
   "source": [
    "results = []\n",
    "for name, model in models.items():\n",
    "    start = time.time()\n",
    "    model.fit(X_train, y_train)\n",
    "    end = time.time()\n",
    "    \n",
    "    train_time = end - start\n",
    "    train_acc = accuracy_score(y_train, model.predict(X_train))\n",
    "    test_acc = accuracy_score(y_test, model.predict(X_test))\n",
    "    \n",
    "    results.append([name, train_time, train_acc, test_acc])"
   ]
  },
  {
   "cell_type": "code",
   "execution_count": 28,
   "id": "aa32a48c-d5f3-4a8c-9339-c2a4484c2927",
   "metadata": {},
   "outputs": [
    {
     "name": "stdout",
     "output_type": "stream",
     "text": [
      "                 Model  Train Time (s)  Train Accuracy  Test Accuracy\n",
      "0  Logistic Regression        7.228339        0.466353        0.46635\n",
      "1        Decision Tree        0.515594        0.999956        0.99970\n"
     ]
    }
   ],
   "source": [
    "df_results = pd.DataFrame(results, columns=[\"Model\", \"Train Time (s)\", \"Train Accuracy\", \"Test Accuracy\"])\n",
    "print(df_results)"
   ]
  },
  {
   "cell_type": "code",
   "execution_count": 29,
   "id": "525f3726-26f1-4119-8cfa-0898faab24b5",
   "metadata": {},
   "outputs": [],
   "source": [
    "# attempt to improve model performance"
   ]
  },
  {
   "cell_type": "code",
   "execution_count": 30,
   "id": "5a5c8724-4317-4171-9353-38ea5ce70181",
   "metadata": {},
   "outputs": [],
   "source": [
    "models = {\n",
    "    \"Logistic Regression\": Pipeline([\n",
    "        (\"s\", StandardScaler()),\n",
    "        (\"lr\", LogisticRegression(max_iter=1000, random_state=6625))\n",
    "    ]),\n",
    "    \"Decision Tree\": DecisionTreeClassifier(random_state=6625) \n",
    "}"
   ]
  },
  {
   "cell_type": "code",
   "execution_count": 31,
   "id": "e9988d13-04ca-4941-a606-8ee176eed1e9",
   "metadata": {},
   "outputs": [],
   "source": [
    "results2 = []\n",
    "for name, model in models.items():\n",
    "    start = time.time()\n",
    "    model.fit(X_train, y_train)\n",
    "    end = time.time()\n",
    "    \n",
    "    train_time = end - start\n",
    "    train_acc = accuracy_score(y_train, model.predict(X_train))\n",
    "    test_acc = accuracy_score(y_test, model.predict(X_test))\n",
    "    \n",
    "    results2.append([name, train_time, train_acc, test_acc])"
   ]
  },
  {
   "cell_type": "code",
   "execution_count": 32,
   "id": "5e2a22cf-d12f-49e4-b24e-9576aaa3cfc0",
   "metadata": {},
   "outputs": [
    {
     "name": "stdout",
     "output_type": "stream",
     "text": [
      "                 Model  Train Time (s)  Train Accuracy  Test Accuracy\n",
      "0  Logistic Regression        4.579377        0.686306       0.686262\n",
      "1        Decision Tree        0.487670        0.999956       0.999713\n"
     ]
    }
   ],
   "source": [
    "df_results2 = pd.DataFrame(results2, columns=[\"Model\", \"Train Time (s)\", \"Train Accuracy\", \"Test Accuracy\"])\n",
    "print(df_results2)"
   ]
  },
  {
   "cell_type": "code",
   "execution_count": 33,
   "id": "ab572329-d8ce-4d16-8ad9-64629a223bec",
   "metadata": {},
   "outputs": [],
   "source": [
    "# finding --> in decision tree, there is a feature that can easily identify the carrier "
   ]
  },
  {
   "cell_type": "code",
   "execution_count": 34,
   "id": "42a67d1b-c589-4a65-8205-becc8c614edc",
   "metadata": {},
   "outputs": [],
   "source": [
    "# continue to tune the logistic regression model and add randon Forest..."
   ]
  },
  {
   "cell_type": "code",
   "execution_count": 35,
   "id": "1c4ad568-df29-4c42-aa4f-cdbace1db0c8",
   "metadata": {},
   "outputs": [],
   "source": [
    "# end"
   ]
  },
  {
   "cell_type": "code",
   "execution_count": null,
   "id": "c26bc0d4-d951-4a8c-8eaa-66c5dd2e4a03",
   "metadata": {},
   "outputs": [],
   "source": []
  }
 ],
 "metadata": {
  "kernelspec": {
   "display_name": "Python [conda env:base] *",
   "language": "python",
   "name": "conda-base-py"
  },
  "language_info": {
   "codemirror_mode": {
    "name": "ipython",
    "version": 3
   },
   "file_extension": ".py",
   "mimetype": "text/x-python",
   "name": "python",
   "nbconvert_exporter": "python",
   "pygments_lexer": "ipython3",
   "version": "3.12.7"
  }
 },
 "nbformat": 4,
 "nbformat_minor": 5
}
